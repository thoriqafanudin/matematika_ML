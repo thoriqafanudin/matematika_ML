{
 "cells": [
  {
   "cell_type": "code",
   "execution_count": 1,
   "id": "cc46da16",
   "metadata": {},
   "outputs": [],
   "source": [
    "import sympy as sym\n",
    "from IPython.display import Math"
   ]
  },
  {
   "cell_type": "code",
   "execution_count": 6,
   "id": "45ad2de3",
   "metadata": {},
   "outputs": [
    {
     "data": {
      "text/latex": [
       "$\\displaystyle \\sigma=\\frac{\\mu}{\\sqrt{x+y^{25z}}}$"
      ],
      "text/plain": [
       "<IPython.core.display.Math object>"
      ]
     },
     "metadata": {},
     "output_type": "display_data"
    }
   ],
   "source": [
    "display(Math('\\\\sigma=\\\\frac{\\\\mu}{\\\\sqrt{x+y^{25z}}}'))"
   ]
  },
  {
   "cell_type": "code",
   "execution_count": 7,
   "id": "91c504f1",
   "metadata": {},
   "outputs": [
    {
     "data": {
      "text/latex": [
       "$\\displaystyle z_{k}$"
      ],
      "text/plain": [
       "<IPython.core.display.Math object>"
      ]
     },
     "metadata": {},
     "output_type": "display_data"
    }
   ],
   "source": [
    "display(Math('z_{k}'))"
   ]
  },
  {
   "cell_type": "code",
   "execution_count": 9,
   "id": "478dee67",
   "metadata": {},
   "outputs": [
    {
     "data": {
      "text/latex": [
       "$\\displaystyle \\text{Jawaban dari persamaan adalah}=\\frac{x}{y^{15}}$"
      ],
      "text/plain": [
       "<IPython.core.display.Math object>"
      ]
     },
     "metadata": {},
     "output_type": "display_data"
    }
   ],
   "source": [
    "display(Math('\\\\text{Jawaban dari persamaan adalah}=\\\\frac{x}{y^{15}}'))"
   ]
  },
  {
   "cell_type": "markdown",
   "id": "e81a9837",
   "metadata": {},
   "source": [
    "$$ \\text{ini adalah tulisan uji coba markdown}=\\frac{x}{y} $$"
   ]
  },
  {
   "cell_type": "code",
   "execution_count": 11,
   "id": "24ed120f",
   "metadata": {},
   "outputs": [
    {
     "data": {
      "text/latex": [
       "$\\displaystyle \\sin(3\\pi+\\theta)$"
      ],
      "text/plain": [
       "<IPython.core.display.Math object>"
      ]
     },
     "metadata": {},
     "output_type": "display_data"
    }
   ],
   "source": [
    "display(Math('\\\\sin(3\\\\pi+\\\\theta)'))"
   ]
  },
  {
   "cell_type": "code",
   "execution_count": 12,
   "id": "f29f2321",
   "metadata": {},
   "outputs": [
    {
     "data": {
      "text/latex": [
       "$\\displaystyle e = mc^2$"
      ],
      "text/plain": [
       "<IPython.core.display.Math object>"
      ]
     },
     "metadata": {},
     "output_type": "display_data"
    }
   ],
   "source": [
    "display(Math('e = mc^2'))"
   ]
  },
  {
   "cell_type": "code",
   "execution_count": 13,
   "id": "62d0fd91",
   "metadata": {},
   "outputs": [
    {
     "data": {
      "text/latex": [
       "$\\displaystyle \\mu + e^{\\alpha + \\sigma} + 90$"
      ],
      "text/plain": [
       "mu + exp(alpha + sigma) + 90"
      ]
     },
     "metadata": {},
     "output_type": "display_data"
    }
   ],
   "source": [
    "mu, alpha, sigma = sym.symbols('mu, alpha, sigma')\n",
    "p = mu + 45*2 + sym.exp(sigma+alpha)\n",
    "display(p)"
   ]
  },
  {
   "cell_type": "code",
   "execution_count": 14,
   "id": "95f5c49a",
   "metadata": {},
   "outputs": [
    {
     "data": {
      "text/latex": [
       "$\\displaystyle 12$"
      ],
      "text/plain": [
       "12"
      ]
     },
     "execution_count": 14,
     "metadata": {},
     "output_type": "execute_result"
    }
   ],
   "source": [
    "x, y, z = sym.symbols('x, y, z')\n",
    "p = x + 10\n",
    "p.subs(x, 2)"
   ]
  },
  {
   "cell_type": "code",
   "execution_count": 15,
   "id": "e4d2abbc",
   "metadata": {},
   "outputs": [
    {
     "data": {
      "text/latex": [
       "$\\displaystyle 36$"
      ],
      "text/plain": [
       "36"
      ]
     },
     "execution_count": 15,
     "metadata": {},
     "output_type": "execute_result"
    }
   ],
   "source": [
    "p = x + 10 + 4**y\n",
    "p.subs({x:10, y:2})"
   ]
  }
 ],
 "metadata": {
  "kernelspec": {
   "display_name": "Python 3 (ipykernel)",
   "language": "python",
   "name": "python3"
  },
  "language_info": {
   "codemirror_mode": {
    "name": "ipython",
    "version": 3
   },
   "file_extension": ".py",
   "mimetype": "text/x-python",
   "name": "python",
   "nbconvert_exporter": "python",
   "pygments_lexer": "ipython3",
   "version": "3.9.13"
  }
 },
 "nbformat": 4,
 "nbformat_minor": 5
}
