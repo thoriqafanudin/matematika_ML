{
 "cells": [
  {
   "cell_type": "markdown",
   "id": "def02834",
   "metadata": {},
   "source": [
    "# Memecahkan persoalan aljabar"
   ]
  },
  {
   "cell_type": "code",
   "execution_count": 19,
   "id": "2db65ea3",
   "metadata": {},
   "outputs": [],
   "source": [
    "import sympy as sym\n",
    "from IPython.display import Math\n",
    "\n",
    "x, y = sym.symbols('x, y')\n",
    "p = 5*x + 5 - 25\n",
    "\n",
    "hasil = sym.solve(p)[0]"
   ]
  },
  {
   "cell_type": "code",
   "execution_count": 14,
   "id": "c01b8a2c",
   "metadata": {},
   "outputs": [
    {
     "data": {
      "text/latex": [
       "$\\displaystyle \\text{Solusi dari persamaan }5x+5-25\\text{ adalah }4$"
      ],
      "text/plain": [
       "<IPython.core.display.Math object>"
      ]
     },
     "metadata": {},
     "output_type": "display_data"
    }
   ],
   "source": [
    "display(Math('\\\\text{Solusi dari persamaan }5x+5-25\\\\text{ adalah }%d' %hasil))"
   ]
  },
  {
   "cell_type": "code",
   "execution_count": 16,
   "id": "cca077e6",
   "metadata": {},
   "outputs": [
    {
     "name": "stdout",
     "output_type": "stream",
     "text": [
      "[-2, 2]\n"
     ]
    }
   ],
   "source": [
    "p2 = x**2 - 4\n",
    "hasil = sym.solve(p2)\n",
    "print(hasil)"
   ]
  },
  {
   "cell_type": "code",
   "execution_count": 18,
   "id": "a1d998fd",
   "metadata": {},
   "outputs": [
    {
     "name": "stdout",
     "output_type": "stream",
     "text": [
      "Solusi #1 adalah -2\n",
      "Solusi #2 adalah 2\n"
     ]
    }
   ],
   "source": [
    "for i in range(len(hasil)):\n",
    "    print(f'Solusi #{i+1} adalah {hasil[i]}')"
   ]
  },
  {
   "cell_type": "code",
   "execution_count": 20,
   "id": "c1786bc2",
   "metadata": {},
   "outputs": [
    {
     "data": {
      "text/plain": [
       "[500/(10*y - 1)]"
      ]
     },
     "execution_count": 20,
     "metadata": {},
     "output_type": "execute_result"
    }
   ],
   "source": [
    "p3 = x/10 - x*y + 50\n",
    "sym.solve(p3, x)"
   ]
  },
  {
   "cell_type": "code",
   "execution_count": 21,
   "id": "84970b70",
   "metadata": {},
   "outputs": [
    {
     "data": {
      "text/plain": [
       "[(x + 500)/(10*x)]"
      ]
     },
     "execution_count": 21,
     "metadata": {},
     "output_type": "execute_result"
    }
   ],
   "source": [
    "sym.solve(p3, y)"
   ]
  }
 ],
 "metadata": {
  "kernelspec": {
   "display_name": "Python 3 (ipykernel)",
   "language": "python",
   "name": "python3"
  },
  "language_info": {
   "codemirror_mode": {
    "name": "ipython",
    "version": 3
   },
   "file_extension": ".py",
   "mimetype": "text/x-python",
   "name": "python",
   "nbconvert_exporter": "python",
   "pygments_lexer": "ipython3",
   "version": "3.9.13"
  }
 },
 "nbformat": 4,
 "nbformat_minor": 5
}
