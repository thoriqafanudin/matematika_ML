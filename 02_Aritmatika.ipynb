{
 "cells": [
  {
   "cell_type": "markdown",
   "id": "faf8f496",
   "metadata": {},
   "source": [
    "# Menulis formula matematika di python"
   ]
  },
  {
   "cell_type": "code",
   "execution_count": 2,
   "id": "af482804",
   "metadata": {},
   "outputs": [
    {
     "data": {
      "text/plain": [
       "'4 + 3 = 7'"
      ]
     },
     "metadata": {},
     "output_type": "display_data"
    }
   ],
   "source": [
    "from IPython.display import display, Math\n",
    "display('4 + 3 = 7')"
   ]
  },
  {
   "cell_type": "code",
   "execution_count": 3,
   "id": "4fbdcbe2",
   "metadata": {},
   "outputs": [
    {
     "data": {
      "text/latex": [
       "$\\displaystyle 4 + 3 = 7$"
      ],
      "text/plain": [
       "<IPython.core.display.Math object>"
      ]
     },
     "metadata": {},
     "output_type": "display_data"
    }
   ],
   "source": [
    "display(Math('4 + 3 = 7'))"
   ]
  },
  {
   "cell_type": "code",
   "execution_count": 4,
   "id": "74d67582",
   "metadata": {},
   "outputs": [
    {
     "data": {
      "text/latex": [
       "$\\displaystyle 10 + 5 = 15$"
      ],
      "text/plain": [
       "<IPython.core.display.Math object>"
      ]
     },
     "metadata": {},
     "output_type": "display_data"
    }
   ],
   "source": [
    "x = 10\n",
    "y = 5\n",
    "display(Math(f'{x} + {y} = {x+y}'))"
   ]
  },
  {
   "cell_type": "code",
   "execution_count": 5,
   "id": "d4ba5bbe",
   "metadata": {},
   "outputs": [
    {
     "data": {
      "text/latex": [
       "$\\displaystyle \\frac45 = 0.8$"
      ],
      "text/plain": [
       "<IPython.core.display.Math object>"
      ]
     },
     "metadata": {},
     "output_type": "display_data"
    }
   ],
   "source": [
    "display(Math(f'\\\\frac{4}{5} = {4/5}'))"
   ]
  },
  {
   "cell_type": "code",
   "execution_count": 6,
   "id": "e3dbb995",
   "metadata": {},
   "outputs": [
    {
     "data": {
      "text/latex": [
       "$\\displaystyle 10\\times5 = 50$"
      ],
      "text/plain": [
       "<IPython.core.display.Math object>"
      ]
     },
     "metadata": {},
     "output_type": "display_data"
    }
   ],
   "source": [
    "display(Math(f'{x}\\\\times{y} = {x*y}'))"
   ]
  },
  {
   "cell_type": "code",
   "execution_count": 7,
   "id": "6335f764",
   "metadata": {},
   "outputs": [
    {
     "data": {
      "text/latex": [
       "$\\displaystyle x = 5, y = 10, z = 2$"
      ],
      "text/plain": [
       "<IPython.core.display.Math object>"
      ]
     },
     "metadata": {},
     "output_type": "display_data"
    }
   ],
   "source": [
    "display(Math('x = 5, y = 10, z = 2'))"
   ]
  },
  {
   "cell_type": "code",
   "execution_count": 23,
   "id": "f9e708ef",
   "metadata": {},
   "outputs": [
    {
     "data": {
      "text/latex": [
       "$\\displaystyle 5x(5 + y) = 375$"
      ],
      "text/plain": [
       "<IPython.core.display.Math object>"
      ]
     },
     "metadata": {},
     "output_type": "display_data"
    },
    {
     "data": {
      "text/latex": [
       "$\\displaystyle -y-\\frac32 = -11.5$"
      ],
      "text/plain": [
       "<IPython.core.display.Math object>"
      ]
     },
     "metadata": {},
     "output_type": "display_data"
    }
   ],
   "source": [
    "a = 5\n",
    "b = 10\n",
    "c = 2\n",
    "hasil = 5*a*(5+b)\n",
    "display(Math(f'5x(5 + y) = {hasil}'))\n",
    "\n",
    "hasil2 = -b-((a-2)/c)\n",
    "display(Math(f'-y-\\\\frac{x-2}{z} = {hasil2}'))"
   ]
  },
  {
   "cell_type": "code",
   "execution_count": 24,
   "id": "50e61d36",
   "metadata": {},
   "outputs": [
    {
     "data": {
      "text/latex": [
       "$\\displaystyle 3^2 = 9$"
      ],
      "text/plain": [
       "<IPython.core.display.Math object>"
      ]
     },
     "metadata": {},
     "output_type": "display_data"
    }
   ],
   "source": [
    "display(Math(f'3^2 = {3**2}'))"
   ]
  },
  {
   "cell_type": "code",
   "execution_count": 25,
   "id": "7201e195",
   "metadata": {},
   "outputs": [
    {
     "data": {
      "text/latex": [
       "$\\displaystyle 3^2 \\times 3^5 = 3^7$"
      ],
      "text/plain": [
       "<IPython.core.display.Math object>"
      ]
     },
     "metadata": {},
     "output_type": "display_data"
    }
   ],
   "source": [
    "display(Math(f'3^2 \\\\times 3^5 = 3^7'))"
   ]
  },
  {
   "cell_type": "code",
   "execution_count": 17,
   "id": "640678ea",
   "metadata": {},
   "outputs": [
    {
     "data": {
      "text/latex": [
       "$\\displaystyle x^{3/4} \\times 4^y = 3933.09$"
      ],
      "text/plain": [
       "<IPython.core.display.Math object>"
      ]
     },
     "metadata": {},
     "output_type": "display_data"
    }
   ],
   "source": [
    "x1 = 5\n",
    "y1 = 5.1\n",
    "\n",
    "hasil = x1**(3/4)\n",
    "hasil2 = 4**y1\n",
    "hasil3 = hasil*hasil2\n",
    "\n",
    "display(Math('x^{3/4} \\\\times 4^y = %g' %hasil3))"
   ]
  },
  {
   "cell_type": "code",
   "execution_count": 20,
   "id": "0935f30b",
   "metadata": {},
   "outputs": [
    {
     "data": {
      "text/latex": [
       "$\\displaystyle \\frac{3^3}{x^y} = 0.00735558$"
      ],
      "text/plain": [
       "<IPython.core.display.Math object>"
      ]
     },
     "metadata": {},
     "output_type": "display_data"
    }
   ],
   "source": [
    "from IPython.display import display, Math\n",
    "x1 = 5\n",
    "y1 = 5.1\n",
    "hasil1 = 3**3\n",
    "hasil2 = x1**y1\n",
    "hasil3 = hasil1/hasil2\n",
    "\n",
    "display(Math('\\\\frac{3^3}{x^y} = %g' %hasil3))"
   ]
  },
  {
   "cell_type": "code",
   "execution_count": 21,
   "id": "099181d1",
   "metadata": {},
   "outputs": [
    {
     "data": {
      "text/latex": [
       "$\\displaystyle 10^{x-4} = 10$"
      ],
      "text/plain": [
       "<IPython.core.display.Math object>"
      ]
     },
     "metadata": {},
     "output_type": "display_data"
    }
   ],
   "source": [
    "hasil = 10**(x1-4)\n",
    "display(Math('10^{x-4} = %g' %hasil))"
   ]
  }
 ],
 "metadata": {
  "kernelspec": {
   "display_name": "Python 3 (ipykernel)",
   "language": "python",
   "name": "python3"
  },
  "language_info": {
   "codemirror_mode": {
    "name": "ipython",
    "version": 3
   },
   "file_extension": ".py",
   "mimetype": "text/x-python",
   "name": "python",
   "nbconvert_exporter": "python",
   "pygments_lexer": "ipython3",
   "version": "3.9.13"
  }
 },
 "nbformat": 4,
 "nbformat_minor": 5
}
